{
 "cells": [
  {
   "cell_type": "code",
   "execution_count": 2,
   "metadata": {},
   "outputs": [],
   "source": [
    "import json\n",
    "import numpy as np\n",
    "\n",
    "def summarize_pass_64(*files):\n",
    "    correct = {}\n",
    "    token_count = {}\n",
    "    \n",
    "    for file in files:\n",
    "        with open(file) as f:\n",
    "            data = json.load(f)\n",
    "            for details in data.values():\n",
    "                question_id = str(details['id'])\n",
    "                correctness_sum = sum(resp[\"correctness\"] for resp in details[\"responses\"]['0.6'])\n",
    "                correct[question_id] = correct.get(question_id, 0) + correctness_sum\n",
    "                token = [item['completion_tokens'] for item in details['token_usages']['0.6']]\n",
    "                token_count[question_id] = token_count.get(question_id, 0) + sum(token)\n",
    "    print(correct)\n",
    "    for key, value in token_count.items():\n",
    "        token_count[key] = value / 64\n",
    "    print(token_count)\n",
    "    return sum(value > 0 for value in correct.values()) / len(correct)\n"
   ]
  },
  {
   "cell_type": "code",
   "execution_count": 17,
   "metadata": {},
   "outputs": [
    {
     "name": "stdout",
     "output_type": "stream",
     "text": [
      "{'60': 49, '61': 6, '62': 0, '63': 0, '64': 3, '65': 2, '66': 42, '67': 52, '68': 15, '69': 57, '70': 3, '71': 28, '72': 48, '73': 1, '74': 10, '75': 32, '76': 22, '77': 2, '78': 8, '79': 39, '80': 2, '81': 0, '82': 24, '83': 44, '84': 51, '85': 16, '86': 29, '87': 10, '88': 0, '89': 0}\n",
      "{'60': 924.96875, '61': 6430.875, '62': 11079.859375, '63': 936.65625, '64': 8004.453125, '65': 4062.828125, '66': 3932.0, '67': 1460.578125, '68': 1715.78125, '69': 577.46875, '70': 4876.609375, '71': 2644.859375, '72': 916.53125, '73': 6647.84375, '74': 4387.46875, '75': 2027.75, '76': 5201.296875, '77': 3855.34375, '78': 2480.75, '79': 4741.609375, '80': 4526.46875, '81': 3718.453125, '82': 8349.34375, '83': 2707.140625, '84': 1443.78125, '85': 3523.3125, '86': 1557.03125, '87': 6134.859375, '88': 9053.546875, '89': 6605.8125}\n"
     ]
    },
    {
     "data": {
      "text/plain": [
       "0.8333333333333334"
      ]
     },
     "execution_count": 17,
     "metadata": {},
     "output_type": "execute_result"
    }
   ],
   "source": [
    "summarize_pass_64(\n",
    "    'results_1/aime24/no_thinking_r1/temp_0.6/Pass_at_16/DeepSeek-R1-Distill-Qwen-32B_s0_e-1.json',\n",
    "    'results_2/aime24/no_thinking_r1/temp_0.6/Pass_at_16/DeepSeek-R1-Distill-Qwen-32B_s0_e-1.json',\n",
    "    'results_3/aime24/no_thinking_r1/temp_0.6/Pass_at_16/DeepSeek-R1-Distill-Qwen-32B_s0_e-1.json',\n",
    "    'results_4/aime24/no_thinking_r1/temp_0.6/Pass_at_16/DeepSeek-R1-Distill-Qwen-32B_s0_e-1.json'\n",
    ")"
   ]
  },
  {
   "cell_type": "code",
   "execution_count": 18,
   "metadata": {},
   "outputs": [
    {
     "name": "stdout",
     "output_type": "stream",
     "text": [
      "{'90': 39, '91': 8, '92': 36, '93': 31, '94': 11, '95': 49, '96': 0, '97': 18, '98': 8, '99': 0, '100': 0, '101': 2, '103': 0, '102': 1, '104': 0, '105': 60, '106': 56, '107': 0, '108': 15, '109': 3, '110': 24, '111': 4, '112': 3, '113': 4, '114': 2, '115': 0, '116': 18, '117': 0, '118': 6, '119': 0}\n",
      "{'90': 747.65625, '91': 3565.515625, '92': 1078.984375, '93': 1080.53125, '94': 3184.921875, '95': 1187.125, '96': 1612.34375, '97': 2857.25, '98': 3248.125, '99': 1325.03125, '100': 7138.21875, '101': 6734.6875, '103': 3728.5, '102': 587.5, '104': 4098.0, '105': 1783.203125, '106': 647.5, '107': 9274.234375, '108': 1600.40625, '109': 2967.375, '110': 9326.0, '111': 2487.96875, '112': 4502.09375, '113': 3429.734375, '114': 6622.90625, '115': 8883.703125, '116': 7585.375, '117': 3138.03125, '118': 5675.953125, '119': 2447.890625}\n"
     ]
    },
    {
     "data": {
      "text/plain": [
       "0.7"
      ]
     },
     "execution_count": 18,
     "metadata": {},
     "output_type": "execute_result"
    },
    {
     "ename": "",
     "evalue": "",
     "output_type": "error",
     "traceback": [
      "\u001b[1;31mThe Kernel crashed while executing code in the current cell or a previous cell. \n",
      "\u001b[1;31mPlease review the code in the cell(s) to identify a possible cause of the failure. \n",
      "\u001b[1;31mClick <a href='https://aka.ms/vscodeJupyterKernelCrash'>here</a> for more info. \n",
      "\u001b[1;31mView Jupyter <a href='command:jupyter.viewOutput'>log</a> for further details."
     ]
    }
   ],
   "source": [
    "summarize_pass_64(\n",
    "    'results_1/aime25/no_thinking_r1/temp_0.6/Pass_at_16/DeepSeek-R1-Distill-Qwen-32B_s0_e-1.json',\n",
    "    'results_2/aime25/no_thinking_r1/temp_0.6/Pass_at_16/DeepSeek-R1-Distill-Qwen-32B_s0_e-1.json',\n",
    "    'results_3/aime25/no_thinking_r1/temp_0.6/Pass_at_16/DeepSeek-R1-Distill-Qwen-32B_s0_e-1.json',\n",
    "    'results_4/aime25/no_thinking_r1/temp_0.6/Pass_at_16/DeepSeek-R1-Distill-Qwen-32B_s0_e-1.json'\n",
    ")"
   ]
  },
  {
   "cell_type": "code",
   "execution_count": 8,
   "metadata": {},
   "outputs": [
    {
     "data": {
      "text/plain": [
       "([False,\n",
       "  False,\n",
       "  False,\n",
       "  False,\n",
       "  False,\n",
       "  False,\n",
       "  False,\n",
       "  True,\n",
       "  False,\n",
       "  True,\n",
       "  False,\n",
       "  False,\n",
       "  False,\n",
       "  False,\n",
       "  False,\n",
       "  False,\n",
       "  False,\n",
       "  False,\n",
       "  False,\n",
       "  False,\n",
       "  False,\n",
       "  False,\n",
       "  True,\n",
       "  False,\n",
       "  False,\n",
       "  False,\n",
       "  False,\n",
       "  False,\n",
       "  False,\n",
       "  False],\n",
       " [422,\n",
       "  367,\n",
       "  489,\n",
       "  421,\n",
       "  585,\n",
       "  395,\n",
       "  762,\n",
       "  280,\n",
       "  344,\n",
       "  312,\n",
       "  508,\n",
       "  290,\n",
       "  529,\n",
       "  339,\n",
       "  681,\n",
       "  206,\n",
       "  838,\n",
       "  476,\n",
       "  848,\n",
       "  483,\n",
       "  396,\n",
       "  50,\n",
       "  492,\n",
       "  483,\n",
       "  889,\n",
       "  156,\n",
       "  430,\n",
       "  338,\n",
       "  380,\n",
       "  335])"
      ]
     },
     "execution_count": 8,
     "metadata": {},
     "output_type": "execute_result"
    }
   ],
   "source": [
    "def shortest_answer_correctness(json_file):\n",
    "    with open(json_file, 'r') as f:\n",
    "        data = json.load(f)\n",
    "    correctness = []\n",
    "    all_length = []\n",
    "    for question_id, details in data.items():\n",
    "        length = [token['completion_tokens'] for token in details['token_usages']['0.6']]\n",
    "        shortest_length = min(length)\n",
    "        all_length.append(shortest_length)\n",
    "        shortest_length_index = length.index(shortest_length)\n",
    "        shortest_response = details['responses']['0.6'][shortest_length_index]\n",
    "        correctness.append(shortest_response['correctness'])\n",
    "    return correctness, all_length\n",
    "\n",
    "shortest_answer_correctness(\n",
    "    'results_1_budget_3500/trial_2/aime24/no_thinking_r1/temp_0.6/Pass_at_16/DeepSeek-R1-Distill-Qwen-32B_s0_e-1.json'\n",
    ")"
   ]
  }
 ],
 "metadata": {
  "kernelspec": {
   "display_name": "eval",
   "language": "python",
   "name": "python3"
  },
  "language_info": {
   "codemirror_mode": {
    "name": "ipython",
    "version": 3
   },
   "file_extension": ".py",
   "mimetype": "text/x-python",
   "name": "python",
   "nbconvert_exporter": "python",
   "pygments_lexer": "ipython3",
   "version": "3.10.16"
  }
 },
 "nbformat": 4,
 "nbformat_minor": 2
}
