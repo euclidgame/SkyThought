{
 "cells": [
  {
   "cell_type": "code",
   "execution_count": 7,
   "metadata": {},
   "outputs": [],
   "source": [
    "import json\n",
    "import numpy as np\n",
    "\n",
    "def summarize_pass_64(*files, temp=0.6):\n",
    "    correct = {}\n",
    "    token_count = {}\n",
    "    \n",
    "    for file in files:\n",
    "        with open(file) as f:\n",
    "            data = json.load(f)\n",
    "            for details in data.values():\n",
    "                question_id = str(details['id'])\n",
    "                correctness_sum = sum(resp[\"correctness\"] for resp in details[\"responses\"][str(temp)])\n",
    "                correct[question_id] = correct.get(question_id, 0) + correctness_sum\n",
    "                token = [item['completion_tokens'] for item in details['token_usages'][str(temp)]]\n",
    "                token_count[question_id] = token_count.get(question_id, 0) + sum(token)\n",
    "    print(correct)\n",
    "    for key, value in token_count.items():\n",
    "        token_count[key] = value / 64\n",
    "    print(token_count)\n",
    "    return sum(value > 0 for value in correct.values()) / len(correct)\n"
   ]
  },
  {
   "cell_type": "code",
   "execution_count": 16,
   "metadata": {},
   "outputs": [
    {
     "name": "stdout",
     "output_type": "stream",
     "text": [
      "{'60': 23, '61': 3, '62': 0, '63': 0, '64': 2, '65': 2, '66': 18, '67': 25, '68': 7, '69': 27, '70': 1, '71': 11, '72': 22, '73': 1, '74': 4, '75': 17, '76': 11, '77': 1, '78': 6, '79': 22, '80': 1, '81': 0, '82': 11, '83': 21, '84': 25, '85': 8, '86': 14, '87': 8, '88': 0, '89': 0}\n",
      "{'60': 431.703125, '61': 3535.234375, '62': 4961.453125, '63': 453.765625, '64': 3457.984375, '65': 2401.890625, '66': 2020.578125, '67': 952.15625, '68': 916.765625, '69': 243.890625, '70': 2066.9375, '71': 1334.421875, '72': 400.625, '73': 3206.140625, '74': 2143.71875, '75': 1080.046875, '76': 2490.9375, '77': 2518.625, '78': 1567.25, '79': 2717.515625, '80': 2503.21875, '81': 1285.65625, '82': 3767.46875, '83': 1409.28125, '84': 762.0625, '85': 1573.75, '86': 880.421875, '87': 2925.84375, '88': 4123.28125, '89': 2684.34375}\n"
     ]
    },
    {
     "data": {
      "text/plain": [
       "0.8333333333333334"
      ]
     },
     "execution_count": 16,
     "metadata": {},
     "output_type": "execute_result"
    }
   ],
   "source": [
    "summarize_pass_64(\n",
    "    'results_1/aime24/no_thinking_r1/temp_0.6/Pass_at_16/DeepSeek-R1-Distill-Qwen-32B_s0_e-1.json',\n",
    "    'results_2/aime24/no_thinking_r1/temp_0.6/Pass_at_16/DeepSeek-R1-Distill-Qwen-32B_s0_e-1.json',\n",
    "    # 'results_3/aime24/no_thinking_r1/temp_0.6/Pass_at_16/DeepSeek-R1-Distill-Qwen-32B_s0_e-1.json',\n",
    "    # 'results_4/aime24/no_thinking_r1/temp_0.6/Pass_at_16/DeepSeek-R1-Distill-Qwen-32B_s0_e-1.json'\n",
    ")"
   ]
  },
  {
   "cell_type": "code",
   "execution_count": 9,
   "metadata": {},
   "outputs": [
    {
     "name": "stdout",
     "output_type": "stream",
     "text": [
      "{'60': 23, '61': 1, '62': 0, '63': 0, '64': 0, '65': 0, '66': 0, '67': 29, '68': 3, '69': 30, '71': 2, '70': 0, '72': 21, '73': 0, '74': 0, '75': 3, '76': 0, '78': 2, '77': 0, '79': 0, '80': 0, '81': 0, '83': 11, '82': 4, '84': 8, '85': 5, '86': 12, '87': 0, '88': 0, '89': 0}\n",
      "{'60': 575.703125, '61': 377.296875, '62': 342.03125, '63': 483.28125, '64': 901.25, '65': 488.109375, '66': 1053.578125, '67': 283.890625, '68': 962.640625, '69': 350.046875, '71': 292.625, '70': 312.046875, '72': 440.4375, '73': 320.40625, '74': 423.40625, '75': 503.328125, '76': 324.34375, '78': 538.78125, '77': 465.625, '79': 405.609375, '80': 1166.046875, '81': 280.921875, '83': 470.625, '82': 1417.09375, '84': 625.640625, '85': 298.578125, '86': 365.0, '87': 1105.984375, '88': 321.203125, '89': 330.828125}\n"
     ]
    },
    {
     "data": {
      "text/plain": [
       "0.4666666666666667"
      ]
     },
     "execution_count": 9,
     "metadata": {},
     "output_type": "execute_result"
    }
   ],
   "source": [
    "summarize_pass_64(\n",
    "    'results_1/aime24/normal/temp_0.7/Pass_at_16/Qwen2.5-32B-Instruct_s0_e-1.json',\n",
    "    'results_2/aime24/normal/temp_0.7/Pass_at_16/Qwen2.5-32B-Instruct_s0_e-1.json',\n",
    "    temp=0.7\n",
    ")"
   ]
  },
  {
   "cell_type": "code",
   "execution_count": 18,
   "metadata": {},
   "outputs": [
    {
     "name": "stdout",
     "output_type": "stream",
     "text": [
      "{'90': 39, '91': 8, '92': 36, '93': 31, '94': 11, '95': 49, '96': 0, '97': 18, '98': 8, '99': 0, '100': 0, '101': 2, '103': 0, '102': 1, '104': 0, '105': 60, '106': 56, '107': 0, '108': 15, '109': 3, '110': 24, '111': 4, '112': 3, '113': 4, '114': 2, '115': 0, '116': 18, '117': 0, '118': 6, '119': 0}\n",
      "{'90': 747.65625, '91': 3565.515625, '92': 1078.984375, '93': 1080.53125, '94': 3184.921875, '95': 1187.125, '96': 1612.34375, '97': 2857.25, '98': 3248.125, '99': 1325.03125, '100': 7138.21875, '101': 6734.6875, '103': 3728.5, '102': 587.5, '104': 4098.0, '105': 1783.203125, '106': 647.5, '107': 9274.234375, '108': 1600.40625, '109': 2967.375, '110': 9326.0, '111': 2487.96875, '112': 4502.09375, '113': 3429.734375, '114': 6622.90625, '115': 8883.703125, '116': 7585.375, '117': 3138.03125, '118': 5675.953125, '119': 2447.890625}\n"
     ]
    },
    {
     "data": {
      "text/plain": [
       "0.7"
      ]
     },
     "execution_count": 18,
     "metadata": {},
     "output_type": "execute_result"
    },
    {
     "ename": "",
     "evalue": "",
     "output_type": "error",
     "traceback": [
      "\u001b[1;31mThe Kernel crashed while executing code in the current cell or a previous cell. \n",
      "\u001b[1;31mPlease review the code in the cell(s) to identify a possible cause of the failure. \n",
      "\u001b[1;31mClick <a href='https://aka.ms/vscodeJupyterKernelCrash'>here</a> for more info. \n",
      "\u001b[1;31mView Jupyter <a href='command:jupyter.viewOutput'>log</a> for further details."
     ]
    }
   ],
   "source": [
    "summarize_pass_64(\n",
    "    'results_1/aime25/no_thinking_r1/temp_0.6/Pass_at_16/DeepSeek-R1-Distill-Qwen-32B_s0_e-1.json',\n",
    "    'results_2/aime25/no_thinking_r1/temp_0.6/Pass_at_16/DeepSeek-R1-Distill-Qwen-32B_s0_e-1.json',\n",
    "    'results_3/aime25/no_thinking_r1/temp_0.6/Pass_at_16/DeepSeek-R1-Distill-Qwen-32B_s0_e-1.json',\n",
    "    'results_4/aime25/no_thinking_r1/temp_0.6/Pass_at_16/DeepSeek-R1-Distill-Qwen-32B_s0_e-1.json'\n",
    ")"
   ]
  },
  {
   "cell_type": "code",
   "execution_count": 8,
   "metadata": {},
   "outputs": [
    {
     "data": {
      "text/plain": [
       "([False,\n",
       "  False,\n",
       "  False,\n",
       "  False,\n",
       "  False,\n",
       "  False,\n",
       "  False,\n",
       "  True,\n",
       "  False,\n",
       "  True,\n",
       "  False,\n",
       "  False,\n",
       "  False,\n",
       "  False,\n",
       "  False,\n",
       "  False,\n",
       "  False,\n",
       "  False,\n",
       "  False,\n",
       "  False,\n",
       "  False,\n",
       "  False,\n",
       "  True,\n",
       "  False,\n",
       "  False,\n",
       "  False,\n",
       "  False,\n",
       "  False,\n",
       "  False,\n",
       "  False],\n",
       " [422,\n",
       "  367,\n",
       "  489,\n",
       "  421,\n",
       "  585,\n",
       "  395,\n",
       "  762,\n",
       "  280,\n",
       "  344,\n",
       "  312,\n",
       "  508,\n",
       "  290,\n",
       "  529,\n",
       "  339,\n",
       "  681,\n",
       "  206,\n",
       "  838,\n",
       "  476,\n",
       "  848,\n",
       "  483,\n",
       "  396,\n",
       "  50,\n",
       "  492,\n",
       "  483,\n",
       "  889,\n",
       "  156,\n",
       "  430,\n",
       "  338,\n",
       "  380,\n",
       "  335])"
      ]
     },
     "execution_count": 8,
     "metadata": {},
     "output_type": "execute_result"
    }
   ],
   "source": [
    "def shortest_answer_correctness(json_file):\n",
    "    with open(json_file, 'r') as f:\n",
    "        data = json.load(f)\n",
    "    correctness = []\n",
    "    all_length = []\n",
    "    for question_id, details in data.items():\n",
    "        length = [token['completion_tokens'] for token in details['token_usages']['0.6']]\n",
    "        shortest_length = min(length)\n",
    "        all_length.append(shortest_length)\n",
    "        shortest_length_index = length.index(shortest_length)\n",
    "        shortest_response = details['responses']['0.6'][shortest_length_index]\n",
    "        correctness.append(shortest_response['correctness'])\n",
    "    return correctness, all_length\n",
    "\n",
    "shortest_answer_correctness(\n",
    "    'results_1_budget_3500/trial_2/aime24/no_thinking_r1/temp_0.6/Pass_at_16/DeepSeek-R1-Distill-Qwen-32B_s0_e-1.json'\n",
    ")"
   ]
  }
 ],
 "metadata": {
  "kernelspec": {
   "display_name": "eval",
   "language": "python",
   "name": "python3"
  },
  "language_info": {
   "codemirror_mode": {
    "name": "ipython",
    "version": 3
   },
   "file_extension": ".py",
   "mimetype": "text/x-python",
   "name": "python",
   "nbconvert_exporter": "python",
   "pygments_lexer": "ipython3",
   "version": "3.10.16"
  }
 },
 "nbformat": 4,
 "nbformat_minor": 2
}
