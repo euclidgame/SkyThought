{
 "cells": [
  {
   "cell_type": "code",
   "execution_count": 3,
   "metadata": {},
   "outputs": [],
   "source": [
    "import json\n",
    "import numpy as np\n",
    "\n",
    "def summarize_pass_64(*files, temp=0.6):\n",
    "    correct = {}\n",
    "    token_count = {}\n",
    "    \n",
    "    for file in files:\n",
    "        with open(file) as f:\n",
    "            data = json.load(f)\n",
    "            for details in data.values():\n",
    "                question_id = str(details['id'])\n",
    "                correctness_sum = sum(resp[\"correctness\"] for resp in details[\"responses\"][str(temp)])\n",
    "                correct[question_id] = correct.get(question_id, 0) + correctness_sum\n",
    "                token = [item['completion_tokens'] for item in details['token_usages'][str(temp)]]\n",
    "                token_count[question_id] = token_count.get(question_id, 0) + sum(token)\n",
    "    print(correct)\n",
    "    for key, value in token_count.items():\n",
    "        token_count[key] = value / 128\n",
    "    print(token_count)\n",
    "    print(\"Average token count: \", sum(value for value in token_count.values()) / len(token_count))\n",
    "    return sum(value > 0 for value in correct.values()) / len(correct)\n"
   ]
  },
  {
   "cell_type": "code",
   "execution_count": 4,
   "metadata": {},
   "outputs": [
    {
     "name": "stdout",
     "output_type": "stream",
     "text": [
      "{'60': 97, '61': 16, '62': 0, '63': 0, '64': 7, '65': 3, '66': 85, '67': 113, '68': 35, '69': 111, '70': 8, '71': 54, '72': 96, '73': 3, '74': 24, '75': 64, '76': 47, '77': 3, '78': 15, '79': 69, '80': 2, '81': 0, '82': 48, '83': 82, '84': 104, '85': 25, '86': 67, '87': 25, '88': 2, '89': 0}\n",
      "{'60': 870.0, '61': 6483.4765625, '62': 10061.921875, '63': 885.0234375, '64': 6778.625, '65': 4082.5546875, '66': 4620.5546875, '67': 1361.3046875, '68': 2244.2578125, '69': 544.9921875, '70': 5353.546875, '71': 3037.3515625, '72': 969.5234375, '73': 7615.7578125, '74': 4091.875, '75': 2059.7109375, '76': 4600.6875, '77': 3897.8515625, '78': 2914.859375, '79': 5180.1328125, '80': 4452.453125, '81': 4086.984375, '82': 6888.1953125, '83': 2595.4375, '84': 1402.4765625, '85': 3610.6015625, '86': 1605.5234375, '87': 6189.609375, '88': 8461.84375, '89': 5732.5859375}\n",
      "Average token count:  4089.3239583333334\n"
     ]
    },
    {
     "data": {
      "text/plain": [
       "0.8666666666666667"
      ]
     },
     "execution_count": 4,
     "metadata": {},
     "output_type": "execute_result"
    }
   ],
   "source": [
    "summarize_pass_64(\n",
    "    'results_1/aime24/no_thinking_r1/temp_0.6/Pass_at_16/DeepSeek-R1-Distill-Qwen-32B_s0_e-1.json',\n",
    "    'results_2/aime24/no_thinking_r1/temp_0.6/Pass_at_16/DeepSeek-R1-Distill-Qwen-32B_s0_e-1.json',\n",
    "    'results_3/aime24/no_thinking_r1/temp_0.6/Pass_at_16/DeepSeek-R1-Distill-Qwen-32B_s0_e-1.json',\n",
    "    'results_4/aime24/no_thinking_r1/temp_0.6/Pass_at_16/DeepSeek-R1-Distill-Qwen-32B_s0_e-1.json',\n",
    "    'pass_at_64_no_budget_forcing_aime24_no_thinking_r1_temp_0.6_Pass_at_64_DeepSeek-R1-Distill-Qwen-32B_s0_e-1.json'\n",
    ")"
   ]
  },
  {
   "cell_type": "code",
   "execution_count": 9,
   "metadata": {},
   "outputs": [
    {
     "name": "stdout",
     "output_type": "stream",
     "text": [
      "{'60': 23, '61': 1, '62': 0, '63': 0, '64': 0, '65': 0, '66': 0, '67': 29, '68': 3, '69': 30, '71': 2, '70': 0, '72': 21, '73': 0, '74': 0, '75': 3, '76': 0, '78': 2, '77': 0, '79': 0, '80': 0, '81': 0, '83': 11, '82': 4, '84': 8, '85': 5, '86': 12, '87': 0, '88': 0, '89': 0}\n",
      "{'60': 575.703125, '61': 377.296875, '62': 342.03125, '63': 483.28125, '64': 901.25, '65': 488.109375, '66': 1053.578125, '67': 283.890625, '68': 962.640625, '69': 350.046875, '71': 292.625, '70': 312.046875, '72': 440.4375, '73': 320.40625, '74': 423.40625, '75': 503.328125, '76': 324.34375, '78': 538.78125, '77': 465.625, '79': 405.609375, '80': 1166.046875, '81': 280.921875, '83': 470.625, '82': 1417.09375, '84': 625.640625, '85': 298.578125, '86': 365.0, '87': 1105.984375, '88': 321.203125, '89': 330.828125}\n"
     ]
    },
    {
     "data": {
      "text/plain": [
       "0.4666666666666667"
      ]
     },
     "execution_count": 9,
     "metadata": {},
     "output_type": "execute_result"
    }
   ],
   "source": [
    "summarize_pass_64(\n",
    "    'results_1/aime24/normal/temp_0.7/Pass_at_16/Qwen2.5-32B-Instruct_s0_e-1.json',\n",
    "    'results_2/aime24/normal/temp_0.7/Pass_at_16/Qwen2.5-32B-Instruct_s0_e-1.json',\n",
    "    temp=0.7\n",
    ")"
   ]
  },
  {
   "cell_type": "code",
   "execution_count": 18,
   "metadata": {},
   "outputs": [
    {
     "name": "stdout",
     "output_type": "stream",
     "text": [
      "{'90': 39, '91': 8, '92': 36, '93': 31, '94': 11, '95': 49, '96': 0, '97': 18, '98': 8, '99': 0, '100': 0, '101': 2, '103': 0, '102': 1, '104': 0, '105': 60, '106': 56, '107': 0, '108': 15, '109': 3, '110': 24, '111': 4, '112': 3, '113': 4, '114': 2, '115': 0, '116': 18, '117': 0, '118': 6, '119': 0}\n",
      "{'90': 747.65625, '91': 3565.515625, '92': 1078.984375, '93': 1080.53125, '94': 3184.921875, '95': 1187.125, '96': 1612.34375, '97': 2857.25, '98': 3248.125, '99': 1325.03125, '100': 7138.21875, '101': 6734.6875, '103': 3728.5, '102': 587.5, '104': 4098.0, '105': 1783.203125, '106': 647.5, '107': 9274.234375, '108': 1600.40625, '109': 2967.375, '110': 9326.0, '111': 2487.96875, '112': 4502.09375, '113': 3429.734375, '114': 6622.90625, '115': 8883.703125, '116': 7585.375, '117': 3138.03125, '118': 5675.953125, '119': 2447.890625}\n"
     ]
    },
    {
     "data": {
      "text/plain": [
       "0.7"
      ]
     },
     "execution_count": 18,
     "metadata": {},
     "output_type": "execute_result"
    },
    {
     "ename": "",
     "evalue": "",
     "output_type": "error",
     "traceback": [
      "\u001b[1;31mThe Kernel crashed while executing code in the current cell or a previous cell. \n",
      "\u001b[1;31mPlease review the code in the cell(s) to identify a possible cause of the failure. \n",
      "\u001b[1;31mClick <a href='https://aka.ms/vscodeJupyterKernelCrash'>here</a> for more info. \n",
      "\u001b[1;31mView Jupyter <a href='command:jupyter.viewOutput'>log</a> for further details."
     ]
    }
   ],
   "source": [
    "summarize_pass_64(\n",
    "    'results_1/aime25/no_thinking_r1/temp_0.6/Pass_at_16/DeepSeek-R1-Distill-Qwen-32B_s0_e-1.json',\n",
    "    'results_2/aime25/no_thinking_r1/temp_0.6/Pass_at_16/DeepSeek-R1-Distill-Qwen-32B_s0_e-1.json',\n",
    "    'results_3/aime25/no_thinking_r1/temp_0.6/Pass_at_16/DeepSeek-R1-Distill-Qwen-32B_s0_e-1.json',\n",
    "    'results_4/aime25/no_thinking_r1/temp_0.6/Pass_at_16/DeepSeek-R1-Distill-Qwen-32B_s0_e-1.json'\n",
    ")"
   ]
  },
  {
   "cell_type": "code",
   "execution_count": 8,
   "metadata": {},
   "outputs": [
    {
     "data": {
      "text/plain": [
       "([False,\n",
       "  False,\n",
       "  False,\n",
       "  False,\n",
       "  False,\n",
       "  False,\n",
       "  False,\n",
       "  True,\n",
       "  False,\n",
       "  True,\n",
       "  False,\n",
       "  False,\n",
       "  False,\n",
       "  False,\n",
       "  False,\n",
       "  False,\n",
       "  False,\n",
       "  False,\n",
       "  False,\n",
       "  False,\n",
       "  False,\n",
       "  False,\n",
       "  True,\n",
       "  False,\n",
       "  False,\n",
       "  False,\n",
       "  False,\n",
       "  False,\n",
       "  False,\n",
       "  False],\n",
       " [422,\n",
       "  367,\n",
       "  489,\n",
       "  421,\n",
       "  585,\n",
       "  395,\n",
       "  762,\n",
       "  280,\n",
       "  344,\n",
       "  312,\n",
       "  508,\n",
       "  290,\n",
       "  529,\n",
       "  339,\n",
       "  681,\n",
       "  206,\n",
       "  838,\n",
       "  476,\n",
       "  848,\n",
       "  483,\n",
       "  396,\n",
       "  50,\n",
       "  492,\n",
       "  483,\n",
       "  889,\n",
       "  156,\n",
       "  430,\n",
       "  338,\n",
       "  380,\n",
       "  335])"
      ]
     },
     "execution_count": 8,
     "metadata": {},
     "output_type": "execute_result"
    }
   ],
   "source": [
    "def shortest_answer_correctness(json_file):\n",
    "    with open(json_file, 'r') as f:\n",
    "        data = json.load(f)\n",
    "    correctness = []\n",
    "    all_length = []\n",
    "    for question_id, details in data.items():\n",
    "        length = [token['completion_tokens'] for token in details['token_usages']['0.6']]\n",
    "        shortest_length = min(length)\n",
    "        all_length.append(shortest_length)\n",
    "        shortest_length_index = length.index(shortest_length)\n",
    "        shortest_response = details['responses']['0.6'][shortest_length_index]\n",
    "        correctness.append(shortest_response['correctness'])\n",
    "    return correctness, all_length\n",
    "\n",
    "shortest_answer_correctness(\n",
    "    'results_1_budget_3500/trial_2/aime24/no_thinking_r1/temp_0.6/Pass_at_16/DeepSeek-R1-Distill-Qwen-32B_s0_e-1.json'\n",
    ")"
   ]
  },
  {
   "cell_type": "code",
   "execution_count": 8,
   "metadata": {},
   "outputs": [
    {
     "name": "stdout",
     "output_type": "stream",
     "text": [
      "0.9953904151916504: 1: True\n",
      "0.9525741338729858: 1: False\n",
      "0.957912266254425: 2: False\n",
      "0.6791787147521973: 4: False\n",
      "0.9046505093574524: 21: False\n",
      "0.9241418242454529: 4: False\n",
      "0.9626730680465698: 14: True\n",
      "0.9902915358543396: 16: True\n",
      "0.9525741338729858: 11: True\n",
      "0.9902915358543396: 15: True\n",
      "0.9241418242454529: 3: False\n",
      "0.9399133324623108: 10: True\n",
      "0.9324532747268677: 4: True\n",
      "-inf: 0: False\n",
      "0.9149009585380554: 5: False\n",
      "0.9902915358543396: 10: True\n",
      "0.9626730680465698: 0: False\n",
      "0.5: 8: False\n",
      "0.9947799444198608: 4: False\n",
      "0.9626730680465698: 1: True\n",
      "0.9149009585380554: 1: False\n",
      "0.9149009585380554: 1: False\n",
      "0.957912266254425: 1: False\n",
      "0.977022647857666: 0: True\n",
      "0.9964063763618469: 0: True\n",
      "0.9465966820716858: 1: True\n",
      "0.9525741338729858: 9: True\n",
      "0.9465966820716858: 11: False\n",
      "-inf: 8: False\n",
      "0.9046505093574524: 0: False\n"
     ]
    },
    {
     "data": {
      "text/plain": [
       "0.43333333333333335"
      ]
     },
     "execution_count": 8,
     "metadata": {},
     "output_type": "execute_result"
    }
   ],
   "source": [
    "import json\n",
    "\n",
    "def get_second_highest_score(score_json_file, answer_json_file):\n",
    "    with open(score_json_file, 'r') as f:\n",
    "        score_data = json.load(f)\n",
    "    with open(answer_json_file, 'r') as f:\n",
    "        answer_data = json.load(f)\n",
    "    total_correctness = 0\n",
    "    total_count = 0\n",
    "    for problem, details in score_data.items():\n",
    "        all_scores = details['all_scores']\n",
    "        from collections import Counter\n",
    "        most_likely_score = Counter(all_scores).most_common(1)[0][0]\n",
    "        # second_highest_score = details['scores']\n",
    "        # answer_data[problem]['second_highest_score'] = second_highest_score\n",
    "        index = all_scores.index(most_likely_score)\n",
    "        correctness = answer_data[problem]['responses']['0.6'][index]['correctness']\n",
    "        print(f\"{most_likely_score}: {index}: {correctness}\")\n",
    "        total_correctness += correctness\n",
    "        total_count += 1\n",
    "    return total_correctness / total_count\n",
    "\n",
    "get_second_highest_score(\n",
    "    'results/pass_at_64/no_budget_forcing/aime24/no_thinking_r1/temp_0.6/Pass_at_64/DeepSeek-R1-Distill-Qwen-32B_s0_e-1_processed.json',\n",
    "    'results/pass_at_64/no_budget_forcing/aime24/no_thinking_r1/temp_0.6/Pass_at_64/DeepSeek-R1-Distill-Qwen-32B_s0_e-1.json'\n",
    ")"
   ]
  },
  {
   "cell_type": "code",
   "execution_count": 7,
   "metadata": {},
   "outputs": [
    {
     "name": "stdout",
     "output_type": "stream",
     "text": [
      "60: 204: True\n",
      "61: 13: False\n",
      "62: 33: False\n",
      "63: 6: False\n",
      "64: 4: False\n",
      "65: 9: False\n",
      "66: 31: False\n",
      "67: 25: True\n",
      "68: 404: False\n",
      "69: 116: True\n",
      "70: 17: False\n",
      "71: 1365: False\n",
      "72: 540: True\n",
      "73: 511: False\n",
      "74: 96: False\n",
      "75: 73: True\n",
      "76: 312: False\n",
      "77: 1: False\n",
      "78: 5: False\n",
      "79: 192: False\n",
      "80: 13: False\n",
      "81: 15: False\n",
      "82: 224: False\n",
      "83: 45: True\n",
      "84: 19: False\n",
      "85: 100: False\n",
      "86: 55: True\n",
      "87: 1000: False\n",
      "88: 7: False\n",
      "89: 2: False\n"
     ]
    },
    {
     "data": {
      "text/plain": [
       "0.23333333333333334"
      ]
     },
     "execution_count": 7,
     "metadata": {},
     "output_type": "execute_result"
    },
    {
     "ename": "",
     "evalue": "",
     "output_type": "error",
     "traceback": [
      "\u001b[1;31mThe Kernel crashed while executing code in the current cell or a previous cell. \n",
      "\u001b[1;31mPlease review the code in the cell(s) to identify a possible cause of the failure. \n",
      "\u001b[1;31mClick <a href='https://aka.ms/vscodeJupyterKernelCrash'>here</a> for more info. \n",
      "\u001b[1;31mView Jupyter <a href='command:jupyter.viewOutput'>log</a> for further details."
     ]
    }
   ],
   "source": [
    "from skythought_evals.util.math_parsing_util import extract_answer, strip_answer_string\n",
    "from collections import Counter\n",
    "\n",
    "def majority_answer_correctness(json_file):\n",
    "    with open(json_file, 'r') as f:\n",
    "        data = json.load(f)\n",
    "    total_correctness = 0\n",
    "    total_count = 0\n",
    "    for problem, details in data.items():\n",
    "        answer = [strip_answer_string(extract_answer(item['content'])) for item in details['responses']['0.7'][:64]]\n",
    "        most_likely_answer = Counter(answer).most_common(1)[0][0]\n",
    "        most_likely_index = answer.index(most_likely_answer)\n",
    "        correctness = details['responses']['0.7'][most_likely_index]['correctness']\n",
    "        print(f\"{details['id']}: {most_likely_answer}: {correctness}\")\n",
    "        total_correctness += correctness\n",
    "        total_count += 1\n",
    "    return total_correctness / total_count\n",
    "\n",
    "majority_answer_correctness(\n",
    "    'results_64/aime24/normal/temp_0.7/Pass_at_64/Qwen2.5-32B-Instruct_s0_e-1.json'\n",
    ")\n"
   ]
  }
 ],
 "metadata": {
  "kernelspec": {
   "display_name": "eval",
   "language": "python",
   "name": "python3"
  },
  "language_info": {
   "codemirror_mode": {
    "name": "ipython",
    "version": 3
   },
   "file_extension": ".py",
   "mimetype": "text/x-python",
   "name": "python",
   "nbconvert_exporter": "python",
   "pygments_lexer": "ipython3",
   "version": "3.10.16"
  }
 },
 "nbformat": 4,
 "nbformat_minor": 2
}
